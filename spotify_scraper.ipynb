{
 "cells": [
  {
   "cell_type": "code",
   "execution_count": 3,
   "id": "05fecb3a-4555-4b7a-b34c-7b13717b12a1",
   "metadata": {},
   "outputs": [],
   "source": [
    "#my client credentials for Spotify API (NELLE'S!!!)\n",
    "Client_ID = \"4555887f29754e4188258d4719c0221c\"\n",
    "Client_Secret = \"4e400da7e73a4e9eaa442da8c06922af\"\n",
    "\n",
    "#10,000 songs, seemingly randomly chosen\n",
    "big_playlist_url = \"https://open.spotify.com/playlist/5S8SJdl1BDc0ugpkEvFsIL?si=95d1072596dd4078\"\n",
    "big_playlist_id = \"5S8SJdl1BDc0ugpkEvFsIL?si=95d1072596dd4078\""
   ]
  },
  {
   "cell_type": "code",
   "execution_count": 36,
   "id": "64b04b57-7b89-437b-bd17-5109b69b87f0",
   "metadata": {},
   "outputs": [],
   "source": [
    "#import needed packages\n",
    "import spotipy\n",
    "from spotipy.oauth2 import SpotifyClientCredentials\n",
    "import pandas as pd\n",
    "import time\n",
    "\n",
    "#intialize the Spotify webscraper and input into \"spotipy\"\n",
    "client_credentials_manager = SpotifyClientCredentials(client_id=Client_ID, client_secret=Client_Secret)\n",
    "sp = spotipy.Spotify(client_credentials_manager = client_credentials_manager)"
   ]
  },
  {
   "cell_type": "code",
   "execution_count": 35,
   "id": "4200c585-d026-4009-84a7-2d26a1bdefe4",
   "metadata": {},
   "outputs": [
    {
     "name": "stdout",
     "output_type": "stream",
     "text": [
      "here!\n"
     ]
    }
   ],
   "source": [
    "#intialize columns of our future pandas dataframe\n",
    "titles = []\n",
    "preview_urls = []\n",
    "popularity_scores =[]\n",
    "artist_urls = []\n",
    "artist_pops = []\n",
    "artist_names = []\n",
    "song_urls = []\n",
    "track_ids = []\n",
    "\n",
    "#Because the maximum batch size for this API is 100, that is how we will iterate through the playlist\n",
    "for i in range(0,10000,100):\n",
    "    #request the i-th set of 100 songs from the playlist\n",
    "    curr_playlist = sp.playlist_items(big_playlist_url, offset = i, additional_types = ['track'])\n",
    "    time.sleep(1)\n",
    "    #loop though all 100 songs returned\n",
    "    for song_dict in curr_playlist['items']:\n",
    "        #append all future df attributes we are going to need\n",
    "        titles.append(song_dict['track']['name'])\n",
    "        preview_urls.append(song_dict['track']['preview_url'])\n",
    "        popularity_scores.append(song_dict['track']['popularity'])\n",
    "        #pull the artist id and append to batch list\n",
    "        try:\n",
    "            artist_id = song_dict['track']['artists'][0]['external_urls']['spotify']\n",
    "        except:\n",
    "            artist_id = \"https://open.spotify.com/artist/240wlM8vDrf6S4zCyzGj2W?si=SxFlZdThTCGoD5n7DrewTQ\"\n",
    "        artist_urls.append(artist_id)\n",
    "        #append track id for future use in audio feature extraction\n",
    "        track_ids.append(song_dict['track']['id'])\n",
    "        \n",
    "print(\"here!\")\n",
    "#now iterate through the list of artist id's\n",
    "for i in range(0,10000,50):\n",
    "    #take a batch of size 50 to request\n",
    "    itter_list = artist_urls[i:i+50]\n",
    "    artist_list = sp.artists(itter_list)\n",
    "    time.sleep(1)\n",
    "    #append these values to our lists\n",
    "    for dict in artist_list['artists']:\n",
    "        artist_pops.append(dict['popularity'])\n",
    "        artist_names.append(dict['name'])\n",
    "\n",
    "\n",
    "#create our dataframe, control song popularity according to artist popularity\n",
    "big_df = pd.DataFrame({'title':titles,'track_id':track_ids,'preview_url':preview_urls,'song_popularity':popularity_scores,'artist_popularity':artist_pops,'artist':artist_names})\n",
    "big_df.to_csv('songs_artists.csv')"
   ]
  },
  {
   "cell_type": "raw",
   "id": "2ebc0f59-dc4a-4b84-9fd8-db7a28e0c40d",
   "metadata": {},
   "source": [
    "Let's take a moment to talk about what I learned in this process. Most API's have a rate limit, which means for each client they will only allow a certain amount of requests in a given time interval. For Spotify, this limit is not published but is believed to be about 90 requests per 30 seconds rolling timeline (https://medium.com/mendix/limiting-your-amount-of-calls-in-mendix-most-of-the-time-rest-835dde55b10e). It is also worth noting that they seem to punish the client if they continue requesting by freezing their ability to scrape the website. After trying to implement long queue times and baning my head on the wall, I discovered that Spotify allows for batch requesting. This means that if I ask for info on 100 artists in one requests, it only counts as a singular request instead of the 100 I would be penalized for if I were to request every artist's popularity individually."
   ]
  },
  {
   "cell_type": "code",
   "execution_count": 5,
   "id": "ba5b6ce5-3edc-4be7-b4c2-4265a41e036b",
   "metadata": {},
   "outputs": [
    {
     "name": "stderr",
     "output_type": "stream",
     "text": [
      "C:\\Users\\william.niven\\AppData\\Local\\Temp\\ipykernel_26156\\759958213.py:3: UserWarning: Boolean Series key will be reindexed to match DataFrame index.\n",
      "  clean_df = big_df[big_df.song_popularity != 0][big_df.artist_popularity != 0][big_df.preview_url.notna()]\n",
      "C:\\Users\\william.niven\\AppData\\Local\\Temp\\ipykernel_26156\\759958213.py:3: UserWarning: Boolean Series key will be reindexed to match DataFrame index.\n",
      "  clean_df = big_df[big_df.song_popularity != 0][big_df.artist_popularity != 0][big_df.preview_url.notna()]\n"
     ]
    }
   ],
   "source": [
    "#Data Cleaning for CNN model using spectrograms\n",
    "big_df = pd.read_csv('songs_artists.csv')\n",
    "clean_df = big_df[big_df.song_popularity != 0][big_df.artist_popularity != 0][big_df.preview_url.notna()]\n",
    "clean_df['normalized_pop'] = clean_df['song_popularity']/clean_df['artist_popularity']\n",
    "final_df = clean_df.filter(items = ['title','preview_url','song_popularity','artist_popularity','artist','normalized_pop'])\n",
    "final_df.to_csv('final.csv', index = 3)\n",
    "final_df = final_df[['title','preview_url','song_popularity','artist_popularity','artist','normalized_pop']]\n",
    "boom_mean = final_df.normalized_pop.mean()\n",
    "final_df['boom_bust'] = final_df['normalized_pop'] > boom_mean\n",
    "final_df.to_csv('final.csv', index = 3)"
   ]
  }
 ],
 "metadata": {
  "kernelspec": {
   "display_name": "Python 3 (ipykernel)",
   "language": "python",
   "name": "python3"
  },
  "language_info": {
   "codemirror_mode": {
    "name": "ipython",
    "version": 3
   },
   "file_extension": ".py",
   "mimetype": "text/x-python",
   "name": "python",
   "nbconvert_exporter": "python",
   "pygments_lexer": "ipython3",
   "version": "3.11.7"
  }
 },
 "nbformat": 4,
 "nbformat_minor": 5
}
