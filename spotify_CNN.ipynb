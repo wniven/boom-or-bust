{
 "cells": [
  {
   "cell_type": "code",
   "execution_count": 1,
   "id": "9b9624aa-2fe2-425d-8e56-a48359a539d1",
   "metadata": {},
   "outputs": [
    {
     "name": "stderr",
     "output_type": "stream",
     "text": [
      "C:\\Users\\william.niven\\AppData\\Local\\Temp\\ipykernel_4608\\2371218122.py:14: RuntimeWarning: divide by zero encountered in log\n",
      "  spectro_list.append(np.log(spectrogram))\n"
     ]
    }
   ],
   "source": [
    "import matplotlib.pyplot as plt\n",
    "from scipy import signal\n",
    "from scipy.io import wavfile\n",
    "import numpy as np\n",
    "import pandas as pd\n",
    "import tensorflow as tf\n",
    "\n",
    "%matplotlib inline\n",
    "\n",
    "#loop through each saved sample\n",
    "spectro_list = []\n",
    "for i in range(4210):\n",
    "    #read in the .wav file and create a spectrogram array\n",
    "    sample_rate, samples = wavfile.read(rf\"C:\\Users\\william.niven\\mono_wavs\\sample_{i}.wav\")\n",
    "    frequencies, times, spectrogram = signal.spectrogram(samples, sample_rate)\n",
    "    #take the log of these values and append to our list\n",
    "    spectro_list.append(np.log(spectrogram))\n",
    "#create a dataframe of these arrays    \n",
    "spec_df = pd.DataFrame({\"spectros\":spectro_list})"
   ]
  },
  {
   "cell_type": "code",
   "execution_count": 2,
   "id": "d0c8c5b9-dfc6-4ab6-919e-ae3934e1ee8b",
   "metadata": {},
   "outputs": [],
   "source": [
    "final_df = pd.read_csv(\"final.csv\")"
   ]
  },
  {
   "cell_type": "code",
   "execution_count": 3,
   "id": "25ed933a-1579-4631-b792-b68562871673",
   "metadata": {},
   "outputs": [],
   "source": [
    "#encode our boolean values as a 0 or 1 for the NN\n",
    "final_df.boom_bust = final_df.boom_bust.map({True: 1, False: 0})"
   ]
  },
  {
   "cell_type": "code",
   "execution_count": 4,
   "id": "c007b192-26be-4a1e-ba44-deabf7d2f795",
   "metadata": {},
   "outputs": [
    {
     "name": "stdout",
     "output_type": "stream",
     "text": [
      "X len = 4196 and y len = 4196\n"
     ]
    }
   ],
   "source": [
    "count = 0\n",
    "my_X = []\n",
    "my_y = []\n",
    "#filter for sample that have 5849 samplings\n",
    "#this is because all inputs to a CNN must be the same size\n",
    "for i in range(len(spec_df.spectros)):\n",
    "    if spec_df.spectros[i].shape == (129,5849):\n",
    "        my_X.append(spec_df.spectros[i])\n",
    "        my_y.append(final_df.boom_bust[i])\n",
    "print(f\"X len = {len(my_X)} and y len = {len(my_y)}\")\n",
    "my_X = np.array(my_X)\n",
    "my_y = np.array(my_y)"
   ]
  },
  {
   "cell_type": "code",
   "execution_count": 5,
   "id": "c9220635-967a-468d-8aa5-3d45f9c56ec3",
   "metadata": {},
   "outputs": [],
   "source": [
    "# Get rid of negative infinity values and other super small values\n",
    "my_X[my_X < -40] = -40"
   ]
  },
  {
   "cell_type": "code",
   "execution_count": 8,
   "id": "041d52e6-9b47-4bf2-89de-bb6324204579",
   "metadata": {},
   "outputs": [],
   "source": [
    "#normalize the spectrogram data\n",
    "normal_X = (my_X - my_X.min()) / (my_X.max() - my_X.min())"
   ]
  },
  {
   "cell_type": "code",
   "execution_count": 10,
   "id": "2933bbe3-aea3-43d1-a162-4fefa105e1c9",
   "metadata": {},
   "outputs": [],
   "source": [
    "#create an extra dimension for CNN\n",
    "#our input only has 1 channel (decibels)\n",
    "normal_X = normal_X.reshape((4196,129,5849,1))"
   ]
  },
  {
   "cell_type": "code",
   "execution_count": 11,
   "id": "b4bbfa8d-3581-43ba-b9f8-05147b2c8c65",
   "metadata": {},
   "outputs": [],
   "source": [
    "#add dimension to outcome vector\n",
    "my_y = my_y.reshape((4196,1))"
   ]
  },
  {
   "cell_type": "code",
   "execution_count": 12,
   "id": "29058f10-9be6-4e3b-8d75-dcffa9f831f4",
   "metadata": {},
   "outputs": [],
   "source": [
    "#80/20 split for training and validation\n",
    "from sklearn.model_selection import train_test_split\n",
    "X_train, X_valid, y_train, y_valid = train_test_split(normal_X, my_y,test_size = 0.2, random_state = 42)"
   ]
  },
  {
   "cell_type": "code",
   "execution_count": 15,
   "id": "32ceaf14-aaa6-4a1e-9560-1dde7d8cabe1",
   "metadata": {},
   "outputs": [
    {
     "name": "stdout",
     "output_type": "stream",
     "text": [
      "Epoch 1/10\n",
      "\u001b[1m105/105\u001b[0m \u001b[32m━━━━━━━━━━━━━━━━━━━━\u001b[0m\u001b[37m\u001b[0m \u001b[1m115s\u001b[0m 1s/step - accuracy: 0.5155 - loss: 0.6947 - val_accuracy: 0.5095 - val_loss: 0.6940\n",
      "Epoch 2/10\n",
      "\u001b[1m105/105\u001b[0m \u001b[32m━━━━━━━━━━━━━━━━━━━━\u001b[0m\u001b[37m\u001b[0m \u001b[1m93s\u001b[0m 881ms/step - accuracy: 0.5256 - loss: 0.6924 - val_accuracy: 0.5095 - val_loss: 0.6950\n",
      "Epoch 3/10\n",
      "\u001b[1m105/105\u001b[0m \u001b[32m━━━━━━━━━━━━━━━━━━━━\u001b[0m\u001b[37m\u001b[0m \u001b[1m93s\u001b[0m 885ms/step - accuracy: 0.5487 - loss: 0.6888 - val_accuracy: 0.5095 - val_loss: 0.6930\n",
      "Epoch 4/10\n",
      "\u001b[1m105/105\u001b[0m \u001b[32m━━━━━━━━━━━━━━━━━━━━\u001b[0m\u001b[37m\u001b[0m \u001b[1m94s\u001b[0m 894ms/step - accuracy: 0.5374 - loss: 0.6913 - val_accuracy: 0.5095 - val_loss: 0.6936\n",
      "Epoch 5/10\n",
      "\u001b[1m105/105\u001b[0m \u001b[32m━━━━━━━━━━━━━━━━━━━━\u001b[0m\u001b[37m\u001b[0m \u001b[1m92s\u001b[0m 877ms/step - accuracy: 0.5376 - loss: 0.6909 - val_accuracy: 0.5095 - val_loss: 0.6943\n",
      "Epoch 6/10\n",
      "\u001b[1m105/105\u001b[0m \u001b[32m━━━━━━━━━━━━━━━━━━━━\u001b[0m\u001b[37m\u001b[0m \u001b[1m93s\u001b[0m 883ms/step - accuracy: 0.5302 - loss: 0.6920 - val_accuracy: 0.5095 - val_loss: 0.6938\n",
      "Epoch 7/10\n",
      "\u001b[1m105/105\u001b[0m \u001b[32m━━━━━━━━━━━━━━━━━━━━\u001b[0m\u001b[37m\u001b[0m \u001b[1m93s\u001b[0m 888ms/step - accuracy: 0.5379 - loss: 0.6906 - val_accuracy: 0.5095 - val_loss: 0.6934\n",
      "Epoch 8/10\n",
      "\u001b[1m105/105\u001b[0m \u001b[32m━━━━━━━━━━━━━━━━━━━━\u001b[0m\u001b[37m\u001b[0m \u001b[1m92s\u001b[0m 879ms/step - accuracy: 0.5481 - loss: 0.6901 - val_accuracy: 0.5095 - val_loss: 0.6935\n",
      "Epoch 9/10\n",
      "\u001b[1m105/105\u001b[0m \u001b[32m━━━━━━━━━━━━━━━━━━━━\u001b[0m\u001b[37m\u001b[0m \u001b[1m93s\u001b[0m 883ms/step - accuracy: 0.5442 - loss: 0.6901 - val_accuracy: 0.5095 - val_loss: 0.6936\n",
      "Epoch 10/10\n",
      "\u001b[1m105/105\u001b[0m \u001b[32m━━━━━━━━━━━━━━━━━━━━\u001b[0m\u001b[37m\u001b[0m \u001b[1m93s\u001b[0m 889ms/step - accuracy: 0.5229 - loss: 0.6924 - val_accuracy: 0.5095 - val_loss: 0.6957\n"
     ]
    }
   ],
   "source": [
    "#create our model with 5 convolutional layers\n",
    "model = tf.keras.Sequential([\n",
    "    tf.keras.layers.Conv2D(filters = 8, kernel_size = (4,4), padding = 'same', activation = 'relu'),\n",
    "    tf.keras.layers.MaxPool2D(pool_size = (2,2), padding = 'valid'),\n",
    "    tf.keras.layers.Conv2D(filters = 8, kernel_size = (4,4), padding = 'same', activation = 'relu'),\n",
    "    tf.keras.layers.MaxPool2D(pool_size = (2,2), padding = 'valid'),\n",
    "    tf.keras.layers.Conv2D(filters = 8, kernel_size = (4,4), padding = 'same', activation = 'relu'),\n",
    "    tf.keras.layers.MaxPool2D(pool_size = (2,2), padding = 'valid'),\n",
    "    tf.keras.layers.Conv2D(filters = 16, kernel_size = (4,4), padding = 'same', activation = 'relu'),\n",
    "    tf.keras.layers.MaxPool2D(pool_size = (2,2), padding = 'valid'),\n",
    "    tf.keras.layers.Conv2D(filters = 16, kernel_size = (4,4), padding = 'same', activation = 'relu'),\n",
    "    tf.keras.layers.MaxPool2D(pool_size = (2,2), padding = 'valid'),\n",
    "    tf.keras.layers.Flatten(),\n",
    "    tf.keras.layers.Dense(1, activation = 'sigmoid')\n",
    "])\n",
    "\n",
    "#compile\n",
    "model.compile(loss = 'binary_crossentropy',\n",
    "             optimizer = 'adam',\n",
    "             metrics = ['accuracy'])\n",
    "\n",
    "#fit\n",
    "history = model.fit(X_train, y_train, epochs = 10, validation_data = (X_valid, y_valid))"
   ]
  },
  {
   "cell_type": "code",
   "execution_count": 16,
   "id": "345dc746-3900-4c1a-bd00-6bfe2fa4c3ba",
   "metadata": {},
   "outputs": [
    {
     "data": {
      "text/plain": [
       "<Axes: >"
      ]
     },
     "execution_count": 16,
     "metadata": {},
     "output_type": "execute_result"
    },
    {
     "data": {
      "image/png": "[encoded data removed]",
      "text/plain": [
       "<Figure size 640x480 with 1 Axes>"
      ]
     },
     "metadata": {},
     "output_type": "display_data"
    }
   ],
   "source": [
    "#plot performance\n",
    "pd.DataFrame(history.history).plot()"
   ]
  },
  {
   "cell_type": "code",
   "execution_count": 17,
   "id": "c112def8-bcd4-4558-a6c1-31ea6668c5b9",
   "metadata": {},
   "outputs": [],
   "source": [
    "#write these outcomes to a csv\n",
    "pd.DataFrame(history.history).to_csv(\"second_try.csv\")"
   ]
  },
  {
   "cell_type": "code",
   "execution_count": 16,
   "id": "1941b2ff-1669-46f2-93cc-81a39077c83d",
   "metadata": {},
   "outputs": [
    {
     "data": {
      "text/plain": [
       "array([[  0, 428],\n",
       "       [  1, 412]], dtype=int64)"
      ]
     },
     "execution_count": 16,
     "metadata": {},
     "output_type": "execute_result"
    }
   ],
   "source": [
    "np.array(np.unique(y_valid, return_counts=True)).T"
   ]
  },
  {
   "cell_type": "code",
   "execution_count": 20,
   "id": "117eed53-b329-4f6a-9319-366cd89ba26f",
   "metadata": {},
   "outputs": [
    {
     "data": {
      "text/plain": [
       "0.5095238095238095"
      ]
     },
     "execution_count": 20,
     "metadata": {},
     "output_type": "execute_result"
    }
   ],
   "source": [
    "#dummy classifier\n",
    "428 / (428+412)"
   ]
  }
 ],
 "metadata": {
  "kernelspec": {
   "display_name": "Python 3 (ipykernel)",
   "language": "python",
   "name": "python3"
  },
  "language_info": {
   "codemirror_mode": {
    "name": "ipython",
    "version": 3
   },
   "file_extension": ".py",
   "mimetype": "text/x-python",
   "name": "python",
   "nbconvert_exporter": "python",
   "pygments_lexer": "ipython3",
   "version": "3.11.7"
  }
 },
 "nbformat": 4,
 "nbformat_minor": 5
}
